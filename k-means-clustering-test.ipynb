{
 "cells": [
  {
   "cell_type": "code",
   "execution_count": 3,
   "metadata": {},
   "outputs": [],
   "source": [
    "import numpy as np\n",
    "import matplotlib.pyplot as plt"
   ]
  },
  {
   "cell_type": "code",
   "execution_count": 4,
   "metadata": {},
   "outputs": [
    {
     "data": {
      "image/png": "[encoded data removed]",
      "text/plain": [
       "<Figure size 800x600 with 1 Axes>"
      ]
     },
     "metadata": {},
     "output_type": "display_data"
    }
   ],
   "source": [
    "np.random.seed(42)\n",
    "\n",
    "cluster_1 = np.round(np.random.normal(loc=[2, 2], scale=0.5, size=(5, 2))).astype(int)\n",
    "cluster_2 = np.round(np.random.normal(loc=[8, 3], scale=0.5, size=(5, 2))).astype(int)\n",
    "cluster_3 = np.round(np.random.normal(loc=[5, 7], scale=0.5, size=(5, 2))).astype(int)\n",
    "\n",
    "data_points = np.vstack((cluster_1, cluster_2, cluster_3))\n",
    "\n",
    "plt.figure(figsize=(8, 6))\n",
    "plt.scatter(data_points[:, 0], data_points[:, 1], c='blue', marker='o')\n",
    "plt.title('2D Data Points for K-Means Clustering (Integer Coordinates)')\n",
    "plt.xlabel('X1')\n",
    "plt.ylabel('X2')\n",
    "plt.grid(True)\n",
    "plt.show()"
   ]
  },
  {
   "cell_type": "code",
   "execution_count": 5,
   "metadata": {},
   "outputs": [
    {
     "data": {
      "text/plain": [
       "array([[2, 2],\n",
       "       [2, 3],\n",
       "       [2, 2],\n",
       "       [3, 2],\n",
       "       [2, 2],\n",
       "       [8, 3],\n",
       "       [8, 2],\n",
       "       [7, 3],\n",
       "       [7, 3],\n",
       "       [8, 2],\n",
       "       [6, 7],\n",
       "       [5, 6],\n",
       "       [5, 7],\n",
       "       [4, 7],\n",
       "       [5, 7]])"
      ]
     },
     "execution_count": 5,
     "metadata": {},
     "output_type": "execute_result"
    }
   ],
   "source": [
    "data_points"
   ]
  },
  {
   "cell_type": "code",
   "execution_count": 6,
   "metadata": {},
   "outputs": [
    {
     "data": {
      "text/plain": [
       "(15, 2)"
      ]
     },
     "execution_count": 6,
     "metadata": {},
     "output_type": "execute_result"
    }
   ],
   "source": [
    "data_points.shape"
   ]
  },
  {
   "cell_type": "code",
   "execution_count": 10,
   "metadata": {},
   "outputs": [],
   "source": [
    "k = 3\n",
    "\n",
    "prev_center_points = np.zeros((k, 2))\n",
    "center_points = data_points[np.random.choice(data_points.shape[0], size=k, replace=False)]\n",
    "\n",
    "center_points_reshaped = center_points[:, np.newaxis, :]\n",
    "data_points_reshaped = data_points[np.newaxis, :,  :]\n"
   ]
  },
  {
   "cell_type": "code",
   "execution_count": 8,
   "metadata": {},
   "outputs": [
    {
     "data": {
      "text/plain": [
       "(3, 2)"
      ]
     },
     "execution_count": 8,
     "metadata": {},
     "output_type": "execute_result"
    }
   ],
   "source": [
    "center_points.shape"
   ]
  },
  {
   "cell_type": "code",
   "execution_count": 9,
   "metadata": {},
   "outputs": [
    {
     "data": {
      "text/plain": [
       "(3, 1, 2)"
      ]
     },
     "execution_count": 9,
     "metadata": {},
     "output_type": "execute_result"
    }
   ],
   "source": [
    "center_points_reshaped.shape"
   ]
  },
  {
   "cell_type": "code",
   "execution_count": 223,
   "metadata": {},
   "outputs": [
    {
     "data": {
      "text/plain": [
       "array([[7, 3],\n",
       "       [8, 2],\n",
       "       [8, 3]])"
      ]
     },
     "execution_count": 223,
     "metadata": {},
     "output_type": "execute_result"
    }
   ],
   "source": [
    "center_points"
   ]
  },
  {
   "cell_type": "code",
   "execution_count": 11,
   "metadata": {},
   "outputs": [
    {
     "data": {
      "text/plain": [
       "array([2, 2, 7])"
      ]
     },
     "execution_count": 11,
     "metadata": {},
     "output_type": "execute_result"
    }
   ],
   "source": [
    "center_points_reshaped[:,0,1]"
   ]
  },
  {
   "cell_type": "code",
   "execution_count": 12,
   "metadata": {},
   "outputs": [
    {
     "data": {
      "text/plain": [
       "array([[[2, 2],\n",
       "        [2, 3],\n",
       "        [2, 2],\n",
       "        [3, 2],\n",
       "        [2, 2],\n",
       "        [8, 3],\n",
       "        [8, 2],\n",
       "        [7, 3],\n",
       "        [7, 3],\n",
       "        [8, 2],\n",
       "        [6, 7],\n",
       "        [5, 6],\n",
       "        [5, 7],\n",
       "        [4, 7],\n",
       "        [5, 7]]])"
      ]
     },
     "execution_count": 12,
     "metadata": {},
     "output_type": "execute_result"
    }
   ],
   "source": [
    "data_points_reshaped"
   ]
  },
  {
   "cell_type": "code",
   "execution_count": 13,
   "metadata": {},
   "outputs": [
    {
     "data": {
      "text/plain": [
       "array([2, 3, 2, 2, 2, 3, 2, 3, 3, 2, 7, 6, 7, 7, 7])"
      ]
     },
     "execution_count": 13,
     "metadata": {},
     "output_type": "execute_result"
    }
   ],
   "source": [
    "data_points_reshaped[0,:,1]"
   ]
  },
  {
   "cell_type": "code",
   "execution_count": 17,
   "metadata": {},
   "outputs": [
    {
     "data": {
      "text/plain": [
       "array([[0.        , 0.        , 6.40312424],\n",
       "       [1.        , 1.        , 5.65685425],\n",
       "       [0.        , 0.        , 6.40312424],\n",
       "       [1.        , 1.        , 5.83095189],\n",
       "       [0.        , 0.        , 6.40312424],\n",
       "       [6.08276253, 6.08276253, 4.47213595],\n",
       "       [6.        , 6.        , 5.38516481],\n",
       "       [5.09901951, 5.09901951, 4.12310563],\n",
       "       [5.09901951, 5.09901951, 4.12310563],\n",
       "       [6.        , 6.        , 5.38516481],\n",
       "       [6.40312424, 6.40312424, 0.        ],\n",
       "       [5.        , 5.        , 1.41421356],\n",
       "       [5.83095189, 5.83095189, 1.        ],\n",
       "       [5.38516481, 5.38516481, 2.        ],\n",
       "       [5.83095189, 5.83095189, 1.        ]])"
      ]
     },
     "execution_count": 17,
     "metadata": {},
     "output_type": "execute_result"
    }
   ],
   "source": [
    "x = center_points_reshaped[:,0,0].reshape((1, k)) - data_points_reshaped[0,:,0].reshape((15, 1))\n",
    "y = center_points_reshaped[:,0,1].reshape((1, k)) - data_points_reshaped[0,:,1].reshape((15, 1))\n",
    "\n",
    "euclidian_distance = np.sqrt(x**2 + y**2)\n",
    "euclidian_distance"
   ]
  },
  {
   "cell_type": "code",
   "execution_count": 18,
   "metadata": {},
   "outputs": [
    {
     "data": {
      "text/plain": [
       "(15, 3)"
      ]
     },
     "execution_count": 18,
     "metadata": {},
     "output_type": "execute_result"
    }
   ],
   "source": [
    "euclidian_distance.shape"
   ]
  },
  {
   "cell_type": "code",
   "execution_count": 23,
   "metadata": {},
   "outputs": [
    {
     "data": {
      "text/plain": [
       "(15, 1)"
      ]
     },
     "execution_count": 23,
     "metadata": {},
     "output_type": "execute_result"
    }
   ],
   "source": [
    "min_indices = np.argmin(euclidian_distance, axis=1)\n",
    "min_indices_matrix = min_indices.reshape(-1, 1)\n",
    "\n",
    "min_indices_matrix.shape"
   ]
  },
  {
   "cell_type": "code",
   "execution_count": 20,
   "metadata": {},
   "outputs": [
    {
     "data": {
      "text/plain": [
       "(15, 2)"
      ]
     },
     "execution_count": 20,
     "metadata": {},
     "output_type": "execute_result"
    }
   ],
   "source": [
    "data_points.shape"
   ]
  },
  {
   "cell_type": "code",
   "execution_count": 21,
   "metadata": {},
   "outputs": [
    {
     "data": {
      "text/plain": [
       "array([[2, 2, 0],\n",
       "       [2, 3, 0],\n",
       "       [2, 2, 0],\n",
       "       [3, 2, 0],\n",
       "       [2, 2, 0],\n",
       "       [8, 3, 2],\n",
       "       [8, 2, 2],\n",
       "       [7, 3, 2],\n",
       "       [7, 3, 2],\n",
       "       [8, 2, 2],\n",
       "       [6, 7, 2],\n",
       "       [5, 6, 2],\n",
       "       [5, 7, 2],\n",
       "       [4, 7, 2],\n",
       "       [5, 7, 2]])"
      ]
     },
     "execution_count": 21,
     "metadata": {},
     "output_type": "execute_result"
    }
   ],
   "source": [
    "data_points_cluster = np.concatenate((data_points, min_indices_matrix), axis=1)\n",
    "\n",
    "data_points_cluster"
   ]
  },
  {
   "cell_type": "code",
   "execution_count": 16,
   "metadata": {},
   "outputs": [
    {
     "ename": "NameError",
     "evalue": "name 'data_points_cluster' is not defined",
     "output_type": "error",
     "traceback": [
      "\u001b[0;31m---------------------------------------------------------------------------\u001b[0m",
      "\u001b[0;31mNameError\u001b[0m                                 Traceback (most recent call last)",
      "Cell \u001b[0;32mIn[16], line 2\u001b[0m\n\u001b[1;32m      1\u001b[0m \u001b[38;5;66;03m# Extract x, y, and cluster labels\u001b[39;00m\n\u001b[0;32m----> 2\u001b[0m x \u001b[38;5;241m=\u001b[39m \u001b[43mdata_points_cluster\u001b[49m[:, \u001b[38;5;241m0\u001b[39m]\n\u001b[1;32m      3\u001b[0m y \u001b[38;5;241m=\u001b[39m data_points_cluster[:, \u001b[38;5;241m1\u001b[39m]\n\u001b[1;32m      4\u001b[0m clusters \u001b[38;5;241m=\u001b[39m data_points_cluster[:, \u001b[38;5;241m2\u001b[39m]\n",
      "\u001b[0;31mNameError\u001b[0m: name 'data_points_cluster' is not defined"
     ]
    }
   ],
   "source": [
    "\n",
    "# Extract x, y, and cluster labels\n",
    "x = data_points_cluster[:, 0]\n",
    "y = data_points_cluster[:, 1]\n",
    "clusters = data_points_cluster[:, 2]\n",
    "\n",
    "# Create a scatter plot\n",
    "plt.figure(figsize=(8, 6))\n",
    "plt.scatter(x, y, c=clusters, cmap='viridis', marker='o', edgecolor='k', s=100)\n",
    "plt.scatter(center_points[:, 0], center_points[:, 1], c=[0,1,2], marker='x', s=200, linewidths=1, label='Cluster Centers')\n",
    "# Add labels and title\n",
    "plt.xlabel('X-axis')\n",
    "plt.ylabel('Y-axis')\n",
    "plt.title('2D Data Points Colored by Cluster')\n",
    "\n",
    "\n",
    "# Show the plot\n",
    "plt.show()"
   ]
  }
 ],
 "metadata": {
  "kernelspec": {
   "display_name": "Python 3",
   "language": "python",
   "name": "python3"
  },
  "language_info": {
   "codemirror_mode": {
    "name": "ipython",
    "version": 3
   },
   "file_extension": ".py",
   "mimetype": "text/x-python",
   "name": "python",
   "nbconvert_exporter": "python",
   "pygments_lexer": "ipython3",
   "version": "3.9.6"
  }
 },
 "nbformat": 4,
 "nbformat_minor": 2
}
